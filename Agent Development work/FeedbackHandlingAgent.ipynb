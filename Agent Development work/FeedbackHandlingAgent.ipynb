{
  "nbformat": 4,
  "nbformat_minor": 0,
  "metadata": {
    "colab": {
      "provenance": []
    },
    "kernelspec": {
      "name": "python3",
      "display_name": "Python 3"
    },
    "language_info": {
      "name": "python"
    }
  },
  "cells": [
    {
      "cell_type": "code",
      "source": [
        "import os\n",
        "from huggingface_hub import InferenceClient\n",
        "import spacy\n",
        "\n",
        "from google.colab import userdata\n",
        "\n",
        "nlp = spacy.load(\"en_core_web_sm\")\n",
        "\n",
        "\n",
        "# Initialize HuggingFace API client\n",
        "client = InferenceClient(\n",
        "    provider=\"featherless-ai\",\n",
        "    api_key=userdata.get('HF_TOKEN'),\n",
        ")\n",
        "\n",
        "# Predefined map of adjectives to tags (90 entries)\n",
        "adjective_map = {\n",
        "    \"Beautiful\": \"scenic\", \"Scenic\": \"scenic\",\n",
        "    \"Cheap\": \"affordable\", \"Affordable\": \"affordable\",\n",
        "    \"Crowded\": \"overpopulated\", \"Overpopulated\": \"overpopulated\",\n",
        "    \"Expensive\": \"luxury\", \"Luxury\": \"luxury\",\n",
        "    \"Quiet\": \"peaceful\", \"Peaceful\": \"peaceful\",\n",
        "    \"Rustic\": \"rural\", \"Rural\": \"rural\",\n",
        "    \"Romantic\": \"romantic\", \"Romantic\": \"romantic\",\n",
        "    \"Clean\": \"hygienic\", \"Hygienic\": \"hygienic\",\n",
        "    \"Warm\": \"tropical\", \"Tropical\": \"tropical\",\n",
        "    \"Cold\": \"winter\", \"Winter\": \"winter\",\n",
        "    \"Busy\": \"urban\", \"Urban\": \"urban\",\n",
        "    \"Relaxing\": \"tranquil\", \"Tranquil\": \"tranquil\",\n",
        "    \"Charming\": \"quaint\", \"Quaint\": \"quaint\",\n",
        "    \"Historic\": \"cultural\", \"Cultural\": \"cultural\",\n",
        "    \"Adventurous\": \"adventure\", \"Adventure\": \"adventure\",\n",
        "    \"Safe\": \"secure\", \"Secure\": \"secure\",\n",
        "    \"Family-friendly\": \"family\", \"Family\": \"family\",\n",
        "    \"Friendly\": \"hospitable\", \"Hospitable\": \"hospitable\",\n",
        "    \"Lively\": \"vibrant\", \"Vibrant\": \"vibrant\",\n",
        "    \"Modern\": \"urban\", \"Urban\": \"urban\",\n",
        "    \"Tropical\": \"island\", \"Island\": \"island\",\n",
        "    \"Unique\": \"exotic\", \"Exotic\": \"exotic\",\n",
        "    \"Vibrant\": \"lively\", \"Lively\": \"lively\",\n",
        "    \"Isolated\": \"remote\", \"Remote\": \"remote\",\n",
        "    \"Spacious\": \"expansive\", \"Expansive\": \"expansive\",\n",
        "    \"Luxury\": \"high-end\", \"High-end\": \"high-end\",\n",
        "    \"Breathtaking\": \"scenic\", \"Scenic\": \"scenic\",\n",
        "    \"Peaceful\": \"calm\", \"Calm\": \"calm\",\n",
        "    \"Exotic\": \"adventurous\", \"Adventurous\": \"adventurous\",\n",
        "    \"Picturesque\": \"scenic\", \"Scenic\": \"scenic\",\n",
        "    \"Majestic\": \"grand\", \"Grand\": \"grand\",\n",
        "    \"Aesthetic\": \"artistic\", \"Artistic\": \"artistic\",\n",
        "    \"Serene\": \"calm\", \"Calm\": \"calm\",\n",
        "    \"Idyllic\": \"peaceful\", \"Peaceful\": \"peaceful\",\n",
        "    \"Dynamic\": \"vibrant\", \"Vibrant\": \"vibrant\",\n",
        "    \"Enchanting\": \"charming\", \"Charming\": \"charming\",\n",
        "    \"Mysterious\": \"exotic\", \"Exotic\": \"exotic\",\n",
        "    \"Thriving\": \"urban\", \"Urban\": \"urban\",\n",
        "    \"Chilly\": \"cold\", \"Cold\": \"cold\",\n",
        "    \"Diverse\": \"multicultural\", \"Multicultural\": \"multicultural\",\n",
        "    \"Wilderness\": \"nature\", \"Nature\": \"nature\",\n",
        "    \"Glistening\": \"shiny\", \"Shiny\": \"shiny\",\n",
        "    \"Untouched\": \"pristine\", \"Pristine\": \"pristine\",\n",
        "    \"Cozy\": \"comfortable\", \"Comfortable\": \"comfortable\",\n",
        "    \"Lush\": \"green\", \"Green\": \"green\",\n",
        "    \"Bright\": \"sunny\", \"Sunny\": \"sunny\",\n",
        "    \"Vast\": \"expansive\", \"Expansive\": \"expansive\",\n",
        "    \"Picturesque\": \"scenic\", \"Scenic\": \"scenic\",\n",
        "    \"Delightful\": \"charming\", \"Charming\": \"charming\",\n",
        "    \"Vibrant\": \"colorful\", \"Colorful\": \"colorful\",\n",
        "    \"Fascinating\": \"intriguing\", \"Intriguing\": \"intriguing\",\n",
        "    \"Sandy\": \"beach\", \"Beach\": \"beach\",\n",
        "    \"Luminous\": \"bright\", \"Bright\": \"bright\",\n",
        "    \"Breezy\": \"refreshing\", \"Refreshing\": \"refreshing\",\n",
        "    \"Clear\": \"crystal-clear\", \"Crystal-clear\": \"crystal-clear\"\n",
        "}\n"
      ],
      "metadata": {
        "id": "_JlZttSubxf4"
      },
      "execution_count": null,
      "outputs": []
    },
    {
      "cell_type": "code",
      "source": [
        "def extract_adjectives(feedback_text):\n",
        "    \"\"\"\n",
        "    Use spaCy POS tagging to extract adjectives from the feedback text.\n",
        "    \"\"\"\n",
        "    doc = nlp(feedback_text)\n",
        "    adjectives = [token.text.capitalize() for token in doc if token.pos_ == \"ADJ\"]\n",
        "    return adjectives"
      ],
      "metadata": {
        "id": "n4cc0zs3fOyP"
      },
      "execution_count": null,
      "outputs": []
    },
    {
      "cell_type": "code",
      "source": [
        "# Handle special phrases (e.g., \"not too crowded\")\n",
        "def process_special_phrases(feedback_text, original_tags):\n",
        "    special_phrases = {\n",
        "        \"not too crowded\": \"peaceful\",\n",
        "        \"not too expensive\": \"affordable\",\n",
        "        \"too crowded\": \"overpopulated\",\n",
        "        \"too expensive\": \"luxury\",\n",
        "        \"too hot\": \"tropical\",\n",
        "        \"not too hot\": \"tropical\",\n",
        "        \"not too cold\": \"tropical\",\n",
        "        \"too cold\": \"winter\",\n",
        "        \"not too far\": \"near\",\n",
        "        \"not too close\": \"remote\",\n",
        "        \"not too long\": \"short\",\n",
        "        \"not too short\": \"long\",\n",
        "        \"not too busy\": \"peaceful\",\n",
        "        \"too busy\": \"urban\",\n",
        "        \"not too loud\": \"quiet\",\n",
        "        \"too loud\": \"noisy\",\n",
        "        \"not too bright\": \"dim\",\n",
        "        \"too bright\": \"sunny\",\n",
        "        \"not too rainy\": \"dry\",\n",
        "        \"too rainy\": \"wet\"\n",
        "    }\n",
        "\n",
        "    for phrase, tag in special_phrases.items():\n",
        "        if phrase in feedback_text.lower():\n",
        "            if tag not in original_tags:\n",
        "                original_tags.append(tag)\n",
        "            feedback_text = feedback_text.lower().replace(phrase, '')\n",
        "\n",
        "    return feedback_text"
      ],
      "metadata": {
        "id": "aKK5UH3EfPmT"
      },
      "execution_count": null,
      "outputs": []
    },
    {
      "cell_type": "code",
      "source": [
        "\n",
        "\n",
        "def fallback_to_llm(feedback_text: str, original_tags: list):\n",
        "    print(\"Fallback to LLM\")\n",
        "    # Fallback to LLM\n",
        "    response = client.chat.completions.create(\n",
        "        model=\"mistralai/Mistral-7B-Instruct-v0.2\",\n",
        "        messages=[\n",
        "            {\n",
        "                \"role\": \"user\",\n",
        "                \"content\": f\"\"\"\n",
        "                Classify the following text as \"feedback\", \"query\", or \"assertive chat\".\n",
        "                If it's feedback or a query, provide the relevant tags based on the text and the original tags. Do not put any comment. Just tags please. For each relevant adjective that is not present in the original\n",
        "                text provide one tag in one word that best fits the adjective you don't have to provide its similar or synonymous tags. Be very diligent in providing the tags. Like not too hot can be cold or warm. The tags has\n",
        "                to be words. no characters please be very mindful regarding this. The tags can also be noun like place name or sight name. You can keep the original tags if you think they are relevant.\n",
        "                Return only the tags, in a comma-separated list.\n",
        "                If it's assertive chat, return \"null\".\n",
        "\n",
        "                Example 1:\n",
        "                Input: \"Can you show me something cool?\"\n",
        "                Original tags: [\"nature\", \"mountain\"]\n",
        "                Output: \"affordable, scenic, cool\"\n",
        "\n",
        "                Example 2:\n",
        "                Input: \"What is the weather like in Switzerland?\"\n",
        "                Original tags: [\"travel\", \"weather\"]\n",
        "                Output: \"mountain, Switzerland, adventure\"\n",
        "\n",
        "                Example 3:\n",
        "                Input: \"I don't care about the price, just show me something unique.\"\n",
        "                Original tags: [\"nature\", \"adventure\"]\n",
        "                Output: \"unique, scenic, exotic\"\n",
        "\n",
        "                Example 4:\n",
        "                Input: \"Great\"\n",
        "                Original tags: [\"nature\", \"mountain\"]\n",
        "                Output: \"null\"\n",
        "\n",
        "                Example 5:\n",
        "                Input: \"Thank You\"\n",
        "                Original tags: [\"nature\", \"mountain\"]\n",
        "                Output: \"null\"\n",
        "\n",
        "\n",
        "                Input:\n",
        "                \"{feedback_text}\"\n",
        "                Original tags: {original_tags}\n",
        "                \"\"\"\n",
        "            }\n",
        "        ],\n",
        "    )\n",
        "\n",
        "    result = response['choices'][0]['message']['content'].strip()\n",
        "\n",
        "    if result.lower() != \"null\":\n",
        "        tags = [tag.strip().strip('\"') for tag in result.split(',')]\n",
        "        return tags\n",
        "    else:\n",
        "        return None"
      ],
      "metadata": {
        "id": "VU6aR3n5fSB1"
      },
      "execution_count": null,
      "outputs": []
    },
    {
      "cell_type": "code",
      "execution_count": null,
      "metadata": {
        "id": "oxFAS049QyNF"
      },
      "outputs": [],
      "source": [
        "# Main processing function\n",
        "def process_feedback(feedback_text: str, original_tags: list):\n",
        "    \"\"\"\n",
        "    Detect feedback/query, then extract relevant tags either from the map or fallback to LLM.\n",
        "    \"\"\"\n",
        "    feedback_text = process_special_phrases(feedback_text, original_tags)  # Handle special phrases\n",
        "\n",
        "    words = feedback_text.lower().split()\n",
        "\n",
        "    adjectives = extract_adjectives(feedback_text)\n",
        "\n",
        "    # Find tags from predefined map\n",
        "    # tags = [adjective_map.get(word.capitalize(), None) for word in words]\n",
        "    tags = [adjective_map.get(adj, None) for adj in adjectives]\n",
        "\n",
        "    tags = list(set(tag for tag in tags if tag))  # Remove duplicates\n",
        "\n",
        "    if tags:\n",
        "        updated_tags = [tag for tag in tags if tag not in original_tags]\n",
        "        original_tags.extend(updated_tags)\n",
        "        return original_tags\n",
        "    else:\n",
        "        tags = fallback_to_llm(feedback_text, original_tags)\n",
        "        updated_tags = [tag for tag in tags if tag not in original_tags]\n",
        "        original_tags.extend(updated_tags)\n",
        "        return original_tags"
      ]
    },
    {
      "cell_type": "code",
      "source": [
        "if __name__ == \"__main__\":\n",
        "    original_tags = [\"nature\", \"mountain\"]\n",
        "    feedback_text = \"I don’t care about price, just unique.\"\n",
        "\n",
        "    updated_tags = process_feedback(feedback_text, original_tags)\n",
        "    print(updated_tags)"
      ],
      "metadata": {
        "colab": {
          "base_uri": "https://localhost:8080/"
        },
        "id": "F_xJngELfXcR",
        "outputId": "a2c9303a-b01b-40c0-f396-53542f78edee"
      },
      "execution_count": null,
      "outputs": [
        {
          "output_type": "stream",
          "name": "stdout",
          "text": [
            "['nature', 'mountain', 'exotic']\n"
          ]
        }
      ]
    },
    {
      "cell_type": "code",
      "source": [],
      "metadata": {
        "id": "weuhT73lmejt"
      },
      "execution_count": null,
      "outputs": []
    }
  ]
}